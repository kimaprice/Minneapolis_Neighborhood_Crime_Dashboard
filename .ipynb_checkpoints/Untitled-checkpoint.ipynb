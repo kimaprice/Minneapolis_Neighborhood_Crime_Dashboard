{
 "cells": [
  {
   "cell_type": "code",
   "execution_count": 1,
   "id": "b9e1a980",
   "metadata": {},
   "outputs": [],
   "source": [
    "import pandas as pd\n",
    "import unicodedata\n",
    "from sqlalchemy import create_engine, inspect\n",
    "from bs4 import BeautifulSoup as bs\n",
    "from splinter import Browser\n",
    "from webdriver_manager.chrome import ChromeDriverManager\n",
    "import re\n",
    "import os"
   ]
  },
  {
   "cell_type": "code",
   "execution_count": 4,
   "id": "fcb35091",
   "metadata": {},
   "outputs": [
    {
     "data": {
      "text/plain": [
       "Index(['X', 'Y', 'Type', 'Case_Number', 'Case_NumberAlt', 'Reported_Date',\n",
       "       'Occurred_Date', 'NIBRS_Crime_Against', 'NIBRS_Group', 'NIBRS_Code',\n",
       "       'Offense_Category', 'Offense', 'Problem_Initial', 'Problem_Final',\n",
       "       'Address', 'Precinct', 'Neighborhood', 'Ward', 'Latitude', 'Longitude',\n",
       "       'wgsXAnon', 'wgsYAnon', 'Crime_Count', 'OBJECTID'],\n",
       "      dtype='object')"
      ]
     },
     "execution_count": 4,
     "metadata": {},
     "output_type": "execute_result"
    }
   ],
   "source": [
    "minneapolis_crime_csv = \"data/Crime_Data.csv\"\n",
    "minneapolis_crime_df = pd.read_csv(minneapolis_crime_csv)\n",
    "minneapolis_crime_df.columns"
   ]
  },
  {
   "cell_type": "code",
   "execution_count": 5,
   "id": "87a1a1b7",
   "metadata": {},
   "outputs": [
    {
     "data": {
      "text/html": [
       "<div>\n",
       "<style scoped>\n",
       "    .dataframe tbody tr th:only-of-type {\n",
       "        vertical-align: middle;\n",
       "    }\n",
       "\n",
       "    .dataframe tbody tr th {\n",
       "        vertical-align: top;\n",
       "    }\n",
       "\n",
       "    .dataframe thead th {\n",
       "        text-align: right;\n",
       "    }\n",
       "</style>\n",
       "<table border=\"1\" class=\"dataframe\">\n",
       "  <thead>\n",
       "    <tr style=\"text-align: right;\">\n",
       "      <th></th>\n",
       "      <th>Latitude</th>\n",
       "      <th>Longitude</th>\n",
       "      <th>Neighborhood</th>\n",
       "      <th>Occurred_Date</th>\n",
       "      <th>Offense</th>\n",
       "      <th>Offense_Category</th>\n",
       "      <th>Crime_Count</th>\n",
       "    </tr>\n",
       "  </thead>\n",
       "  <tbody>\n",
       "    <tr>\n",
       "      <th>0</th>\n",
       "      <td>44.97950</td>\n",
       "      <td>-93.26912</td>\n",
       "      <td>Downtown West</td>\n",
       "      <td>2019/11/07 19:30:00+00</td>\n",
       "      <td>Robbery</td>\n",
       "      <td>Robbery</td>\n",
       "      <td>1</td>\n",
       "    </tr>\n",
       "    <tr>\n",
       "      <th>1</th>\n",
       "      <td>44.96716</td>\n",
       "      <td>-93.26382</td>\n",
       "      <td>Elliot Park</td>\n",
       "      <td>2022/08/02 12:49:00+00</td>\n",
       "      <td>Arson</td>\n",
       "      <td>Arson</td>\n",
       "      <td>1</td>\n",
       "    </tr>\n",
       "    <tr>\n",
       "      <th>2</th>\n",
       "      <td>44.98335</td>\n",
       "      <td>-93.30582</td>\n",
       "      <td>Harrison</td>\n",
       "      <td>2019/08/19 18:30:00+00</td>\n",
       "      <td>Motor Vehicle Theft</td>\n",
       "      <td>Motor Vehicle Theft</td>\n",
       "      <td>1</td>\n",
       "    </tr>\n",
       "    <tr>\n",
       "      <th>3</th>\n",
       "      <td>44.94750</td>\n",
       "      <td>-93.26647</td>\n",
       "      <td>Central</td>\n",
       "      <td>2019/09/03 13:00:00+00</td>\n",
       "      <td>All Other Larceny</td>\n",
       "      <td>Larceny/Theft Offenses</td>\n",
       "      <td>1</td>\n",
       "    </tr>\n",
       "    <tr>\n",
       "      <th>4</th>\n",
       "      <td>44.97390</td>\n",
       "      <td>-93.27292</td>\n",
       "      <td>Downtown West</td>\n",
       "      <td>2021/10/16 08:43:00+00</td>\n",
       "      <td>Simple Assault</td>\n",
       "      <td>Assault Offenses</td>\n",
       "      <td>1</td>\n",
       "    </tr>\n",
       "    <tr>\n",
       "      <th>...</th>\n",
       "      <td>...</td>\n",
       "      <td>...</td>\n",
       "      <td>...</td>\n",
       "      <td>...</td>\n",
       "      <td>...</td>\n",
       "      <td>...</td>\n",
       "      <td>...</td>\n",
       "    </tr>\n",
       "    <tr>\n",
       "      <th>154218</th>\n",
       "      <td>44.98283</td>\n",
       "      <td>-93.25142</td>\n",
       "      <td>Marcy Holmes</td>\n",
       "      <td>2022/06/23 03:30:00+00</td>\n",
       "      <td>Carjacking - Subset of Robbery</td>\n",
       "      <td>Subset of NIBRS Robbery</td>\n",
       "      <td>1</td>\n",
       "    </tr>\n",
       "    <tr>\n",
       "      <th>154219</th>\n",
       "      <td>45.00086</td>\n",
       "      <td>-93.28952</td>\n",
       "      <td>Hawthorne</td>\n",
       "      <td>2021/03/11 20:35:00+00</td>\n",
       "      <td>Destruction/Damage/Vandalism of Property</td>\n",
       "      <td>Destruction/Damage/Vandalism of Property</td>\n",
       "      <td>1</td>\n",
       "    </tr>\n",
       "    <tr>\n",
       "      <th>154220</th>\n",
       "      <td>45.00198</td>\n",
       "      <td>-93.26385</td>\n",
       "      <td>Sheridan</td>\n",
       "      <td>2022/01/03 02:15:00+00</td>\n",
       "      <td>Destruction/Damage/Vandalism of Property</td>\n",
       "      <td>Destruction/Damage/Vandalism of Property</td>\n",
       "      <td>1</td>\n",
       "    </tr>\n",
       "    <tr>\n",
       "      <th>154221</th>\n",
       "      <td>44.93548</td>\n",
       "      <td>-93.27426</td>\n",
       "      <td>Central</td>\n",
       "      <td>2020/10/02 00:20:40+00</td>\n",
       "      <td>ShotSpotter Activation (P)</td>\n",
       "      <td>Shots Fired Calls</td>\n",
       "      <td>1</td>\n",
       "    </tr>\n",
       "    <tr>\n",
       "      <th>154222</th>\n",
       "      <td>45.02849</td>\n",
       "      <td>-93.28540</td>\n",
       "      <td>Camden Industrial</td>\n",
       "      <td>2021/01/30 15:16:00+00</td>\n",
       "      <td>Destruction/Damage/Vandalism of Property</td>\n",
       "      <td>Destruction/Damage/Vandalism of Property</td>\n",
       "      <td>1</td>\n",
       "    </tr>\n",
       "  </tbody>\n",
       "</table>\n",
       "<p>154223 rows × 7 columns</p>\n",
       "</div>"
      ],
      "text/plain": [
       "        Latitude  Longitude       Neighborhood           Occurred_Date  \\\n",
       "0       44.97950  -93.26912      Downtown West  2019/11/07 19:30:00+00   \n",
       "1       44.96716  -93.26382        Elliot Park  2022/08/02 12:49:00+00   \n",
       "2       44.98335  -93.30582           Harrison  2019/08/19 18:30:00+00   \n",
       "3       44.94750  -93.26647            Central  2019/09/03 13:00:00+00   \n",
       "4       44.97390  -93.27292      Downtown West  2021/10/16 08:43:00+00   \n",
       "...          ...        ...                ...                     ...   \n",
       "154218  44.98283  -93.25142       Marcy Holmes  2022/06/23 03:30:00+00   \n",
       "154219  45.00086  -93.28952          Hawthorne  2021/03/11 20:35:00+00   \n",
       "154220  45.00198  -93.26385           Sheridan  2022/01/03 02:15:00+00   \n",
       "154221  44.93548  -93.27426            Central  2020/10/02 00:20:40+00   \n",
       "154222  45.02849  -93.28540  Camden Industrial  2021/01/30 15:16:00+00   \n",
       "\n",
       "                                          Offense  \\\n",
       "0                                        Robbery    \n",
       "1                                          Arson    \n",
       "2                            Motor Vehicle Theft    \n",
       "3                              All Other Larceny    \n",
       "4                                 Simple Assault    \n",
       "...                                           ...   \n",
       "154218             Carjacking - Subset of Robbery   \n",
       "154219  Destruction/Damage/Vandalism of Property    \n",
       "154220  Destruction/Damage/Vandalism of Property    \n",
       "154221                 ShotSpotter Activation (P)   \n",
       "154222  Destruction/Damage/Vandalism of Property    \n",
       "\n",
       "                                 Offense_Category  Crime_Count  \n",
       "0                                        Robbery             1  \n",
       "1                                          Arson             1  \n",
       "2                            Motor Vehicle Theft             1  \n",
       "3                         Larceny/Theft Offenses             1  \n",
       "4                               Assault Offenses             1  \n",
       "...                                           ...          ...  \n",
       "154218                    Subset of NIBRS Robbery            1  \n",
       "154219  Destruction/Damage/Vandalism of Property             1  \n",
       "154220  Destruction/Damage/Vandalism of Property             1  \n",
       "154221                          Shots Fired Calls            1  \n",
       "154222  Destruction/Damage/Vandalism of Property             1  \n",
       "\n",
       "[154223 rows x 7 columns]"
      ]
     },
     "execution_count": 5,
     "metadata": {},
     "output_type": "execute_result"
    }
   ],
   "source": [
    "reduced_minne_crime = minneapolis_crime_df[[\"Latitude\",\"Longitude\",\"Neighborhood\",\"Occurred_Date\",\"Offense\",\"Offense_Category\",\"Crime_Count\"]]\n",
    "reduced_minne_crime"
   ]
  },
  {
   "cell_type": "code",
   "execution_count": 15,
   "id": "4f592d40",
   "metadata": {},
   "outputs": [
    {
     "data": {
      "text/plain": [
       "85"
      ]
     },
     "execution_count": 15,
     "metadata": {},
     "output_type": "execute_result"
    }
   ],
   "source": [
    "edu = os.listdir(\"./Data/Education/\")\n",
    "len(edu)"
   ]
  },
  {
   "cell_type": "code",
   "execution_count": 17,
   "id": "b96f3a86",
   "metadata": {},
   "outputs": [
    {
     "data": {
      "text/plain": [
       "85"
      ]
     },
     "execution_count": 17,
     "metadata": {},
     "output_type": "execute_result"
    }
   ],
   "source": [
    "age = os.listdir(\"./Data/age/\")\n",
    "len(age)"
   ]
  },
  {
   "cell_type": "code",
   "execution_count": 19,
   "id": "c9c4c6b5",
   "metadata": {},
   "outputs": [
    {
     "data": {
      "text/plain": [
       "85"
      ]
     },
     "execution_count": 19,
     "metadata": {},
     "output_type": "execute_result"
    }
   ],
   "source": [
    "income = os.listdir(\"./Data/income/\")\n",
    "len(income)"
   ]
  },
  {
   "cell_type": "code",
   "execution_count": null,
   "id": "9b2ce177",
   "metadata": {},
   "outputs": [],
   "source": []
  }
 ],
 "metadata": {
  "kernelspec": {
   "display_name": "Python 3 (ipykernel)",
   "language": "python",
   "name": "python3"
  },
  "language_info": {
   "codemirror_mode": {
    "name": "ipython",
    "version": 3
   },
   "file_extension": ".py",
   "mimetype": "text/x-python",
   "name": "python",
   "nbconvert_exporter": "python",
   "pygments_lexer": "ipython3",
   "version": "3.8.13"
  }
 },
 "nbformat": 4,
 "nbformat_minor": 5
}
