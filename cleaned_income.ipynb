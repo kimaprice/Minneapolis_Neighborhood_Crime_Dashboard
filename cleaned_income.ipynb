{
 "cells": [
  {
   "cell_type": "code",
   "execution_count": null,
   "id": "b9e1a980",
   "metadata": {},
   "outputs": [],
   "source": [
    "import pandas as pd\n",
    "import unicodedata\n",
    "from sqlalchemy import create_engine, inspect\n",
    "from bs4 import BeautifulSoup as bs\n",
    "from splinter import Browser\n",
    "from webdriver_manager.chrome import ChromeDriverManager\n",
    "import re\n",
    "import os"
   ]
  },
  {
   "cell_type": "code",
   "execution_count": null,
   "id": "fcb35091",
   "metadata": {},
   "outputs": [],
   "source": [
    "minneapolis_crime_csv = \"data/Crime_Data.csv\"\n",
    "minneapolis_crime_df = pd.read_csv(minneapolis_crime_csv)\n",
    "minneapolis_crime_df.columns"
   ]
  },
  {
   "cell_type": "code",
   "execution_count": null,
   "id": "87a1a1b7",
   "metadata": {},
   "outputs": [],
   "source": [
    "reduced_minne_crime = minneapolis_crime_df[[\"Latitude\",\"Longitude\",\"Neighborhood\",\"Occurred_Date\",\"Offense\",\"Offense_Category\",\"Crime_Count\"]]\n",
    "reduced_minne_crime"
   ]
  },
  {
   "cell_type": "code",
   "execution_count": null,
   "id": "4f592d40",
   "metadata": {},
   "outputs": [],
   "source": [
    "edu = os.listdir(\"./Data/Education/\")\n",
    "len(edu)"
   ]
  },
  {
   "cell_type": "code",
   "execution_count": null,
   "id": "b96f3a86",
   "metadata": {},
   "outputs": [],
   "source": [
    "age = os.listdir(\"./Data/age/\")\n",
    "len(age)"
   ]
  },
  {
   "cell_type": "code",
   "execution_count": null,
   "id": "c9c4c6b5",
   "metadata": {},
   "outputs": [],
   "source": [
    "income = os.listdir(\"./Data/income/\")\n",
    "len(income)"
   ]
  },
  {
   "cell_type": "code",
   "execution_count": null,
   "id": "9b2ce177",
   "metadata": {},
   "outputs": [],
   "source": [
    "income_dict_str = '{'\n",
    "for file in os.listdir(\"./Data/income/\"):\n",
    "    income_dict_str += f\"'{file}': '{file}', \\n\"\n",
    "dict_str += '}'"
   ]
  },
  {
   "cell_type": "code",
   "execution_count": null,
   "id": "c23c6fd5",
   "metadata": {},
   "outputs": [],
   "source": [
    "print(income_dict_str)"
   ]
  },
  {
   "cell_type": "code",
   "execution_count": null,
   "id": "2f7a6fe7",
   "metadata": {},
   "outputs": [],
   "source": [
    "income_dict = {'bottineau': 'bottineau-income.csv', \n",
    "'holland': 'holland-neighborhood-hou.csv', \n",
    "'bryn mawr': 'bryn-mawr-income.csv', \n",
    "'lyndale': 'lyndale-neighborhood-hou.csv', \n",
    "'beltrami': 'beltrami-income.csv', \n",
    "'kenwood': 'kenwood-neighborhood-hou.csv', \n",
    "'midtown phillips': 'midtown-phillips-neighbo.csv', \n",
    "'lynnhurst': 'lynnhurst-neighborhood-h.csv', \n",
    "'howe': 'howe-neighborhood-househ.csv', \n",
    "'standish': 'standish-neighborhood-ho.csv', \n",
    "'como': 'como-income.csv', \n",
    "'armatage': 'armatage-income.csv', \n",
    "'marcy holmes': 'marcy-holmes-neighborhoo.csv', \n",
    "'near north': 'near-north-neighborhood.csv', \n",
    "'powderhorn park': 'powderhorn-park-neighbor.csv', \n",
    "'downtown east': 'downtown-east-income.csv', \n",
    "'south uptown': 'south-uptown-neighborhoo.csv', \n",
    "'east bde maka ska': 'east-bde-maka-ska-income.csv', \n",
    "'wenonah': 'wenonah-neighborhood-hou.csv', \n",
    "'fulton': 'fulton-neighborhood-hous.csv', \n",
    "'central income.csv': 'central-income.csv', \n",
    "'north loop': 'north-loop-neighborhood.csv', \n",
    "'university of minnesota': 'university-of-minnesota.csv', \n",
    "'victory': 'victory-neighborhood-hou.csv', \n",
    "'bryant': 'bryant-income.csv', \n",
    "'seward': 'seward-neighborhood-hous (1).csv', \n",
    "'page': 'page-neighborhood-househ.csv', \n",
    "'webber': 'webber-camden-neighborho.csv', \n",
    "'cedar isles dean': 'cedar-isles-dean-income.csv', \n",
    "'phillips west': 'phillips-west-neighborho.csv', \n",
    "'hale': 'hale-neighborhood-househ.csv', \n",
    "'sumner glenwood': 'sumner-glenwood-neighbor.csv', \n",
    "'keewaydin': 'keewaydin-neighborhood-h.csv', \n",
    "'shingle creek': 'shingle-creek-neighborho.csv', \n",
    "'northeast park': 'northeast-park-neighborh.csv', \n",
    "'lind bohanon': 'lind-bohanon-neighborhoo.csv', \n",
    "'cooper': 'cooper-neighborhood-hous.csv', \n",
    "'lowry hill': 'lowry-hill-neighborhood.csv', \n",
    "'northrop': 'northrop-neighborhood-ho.csv', \n",
    "'elliot park': 'elliot-park-neighborhood.csv', \n",
    "'regina': 'regina-neighborhood-hous.csv', \n",
    "'cleveland': 'cleveland-income.csv', \n",
    "'longfellow': 'longfellow-neighborhood.csv', \n",
    "'east isles': 'east-isles-neighborhood.csv', \n",
    "'tangletown': 'tangletown-neighborhood.csv', \n",
    "'linden hills': 'linden-hills-neighborhoo.csv', \n",
    "'loring park': 'loring-park-neighborhood.csv', \n",
    "'lowry hill east': 'lowry-hill-east-neighbor.csv', \n",
    "'harrison': 'harrison-neighborhood-ho.csv', \n",
    "'windom': 'windom-neighborhood-hous.csv', \n",
    "'prospect park east river': 'prospect-park-east-river.csv', \n",
    "'east harriet': 'east-harriet-income.csv', \n",
    "'minnehaha': 'minnehaha-neighborhood-h.csv', \n",
    "'cedar riverside': 'cedar-riverside-income.csv', \n",
    "'ventura village': 'ventura-village-neighbor.csv', \n",
    "'west maka ska': 'west-maka-ska-neighborho.csv', \n",
    "'jordan': 'jordan-neighborhood-hous.csv', \n",
    "'king field': 'king-field-neighborhood.csv', \n",
    "'st anthony east': 'st-anthony-east-neighbor.csv', \n",
    "'morris park': 'morris-park-neighborhood.csv', \n",
    "'mckinley': 'mckinley-neighborhood-ho.csv', \n",
    "'stevens square loring heights': 'stevens-square-loring-he.csv', \n",
    "'willard hay': 'willard-hay-neighborhood.csv', \n",
    "'sheridan': 'sheridan-neighborhood-ho.csv', \n",
    "'bancroft': 'bancroft-income.csv', \n",
    "'audubon park': 'audubon-park-income.csv', \n",
    "'downtown west': 'downtown-west-income.csv', \n",
    "'kenny neighborhood': 'kenny-neighborhood-house.csv', \n",
    "'corcoran': 'corcoran-neighborhood-ho.csv', \n",
    "'field': 'field-neighborhood-house.csv', \n",
    "'whittier': 'whittier-neighborhood-ho.csv', \n",
    "'st anthony west': 'st-anthony-west-neighbor.csv', \n",
    "'marshall terrace': 'marshall-terrace-neighbo.csv', \n",
    "'east phillips': 'east-phillips-neighborho.csv', \n",
    "'diamond lake': 'diamond-lake-income.csv', \n",
    "'windom park': 'windom-park-neighborhood.csv', \n",
    "'mid city industrial': 'mid-city-industrial-neig.csv', \n",
    "'hawthorne': 'hawthorne-neighborhood-h.csv', \n",
    "'hiawatha': 'hiawatha-neighborhood-ho.csv', \n",
    "'columbia park': 'columbia-park-income.csv', \n",
    "'logan park': 'logan-park-neighborhood.csv', \n",
    "'nicollet island east bank': 'nicollet-island-east-ban.csv', \n",
    "'folwell': 'folwell-neighborhood-hou.csv', \n",
    "'ericsson': 'ericsson-neighborhood-ho.csv', \n",
    "'waite park': 'waite-park-neighborhood.csv'}"
   ]
  },
  {
   "cell_type": "code",
   "execution_count": null,
   "id": "51f8566b",
   "metadata": {},
   "outputs": [],
   "source": [
    "sorted_income = sorted(income_dict.items(), key=lambda x: x[1], reverse=False)"
   ]
  },
  {
   "cell_type": "code",
   "execution_count": null,
   "id": "b6e85ad1",
   "metadata": {},
   "outputs": [],
   "source": [
    "sorted_income"
   ]
  },
  {
   "cell_type": "code",
   "execution_count": null,
   "id": "831228ca",
   "metadata": {},
   "outputs": [],
   "source": []
  }
 ],
 "metadata": {
  "kernelspec": {
   "display_name": "Python 3 (ipykernel)",
   "language": "python",
   "name": "python3"
  },
  "language_info": {
   "codemirror_mode": {
    "name": "ipython",
    "version": 3
   },
   "file_extension": ".py",
   "mimetype": "text/x-python",
   "name": "python",
   "nbconvert_exporter": "python",
   "pygments_lexer": "ipython3",
   "version": "3.8.13"
  }
 },
 "nbformat": 4,
 "nbformat_minor": 5
}
